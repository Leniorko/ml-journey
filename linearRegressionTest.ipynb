{
 "cells": [
  {
   "cell_type": "code",
   "execution_count": 39,
   "metadata": {},
   "outputs": [],
   "source": [
    "from sklearn import linear_model\n",
    "from sklearn.metrics import mean_squared_error\n",
    "import matplotlib.pyplot as plt"
   ]
  },
  {
   "cell_type": "code",
   "execution_count": 40,
   "metadata": {},
   "outputs": [
    {
     "name": "stdout",
     "output_type": "stream",
     "text": [
      "0.0\n"
     ]
    },
    {
     "data": {
      "image/png": "[encoded data removed]",
      "text/plain": [
       "<Figure size 432x288 with 1 Axes>"
      ]
     },
     "metadata": {},
     "output_type": "display_data"
    }
   ],
   "source": [
    "reg = linear_model.LinearRegression()\n",
    "testData = [[1, 1], [2, 2], [3, 3]]\n",
    "testResult = [1, 2, 3]\n",
    "\n",
    "reg.fit(X=testData, y=[1, 2, 3])\n",
    "\n",
    "testPred = reg.predict([[4, 4], [5, 5]])\n",
    "print(mean_squared_error([4, 5], testPred))\n",
    "\n",
    "# plt.scatter(testData, testResult, color=\"black\")\n",
    "plt.scatter([1, 2, 3], testResult, color=\"black\")\n",
    "plt.plot([4, 5], testPred, color=\"blue\", linewidth=3)\n",
    "\n",
    "plt.xticks(())\n",
    "plt.yticks(())\n",
    "\n",
    "plt.show()"
   ]
  }
 ],
 "metadata": {
  "interpreter": {
   "hash": "33451c008b6e731270053effa57716c401aa6c0ce7099a1495fe83278b07372c"
  },
  "kernelspec": {
   "display_name": "Python 3.9.7 ('base')",
   "language": "python",
   "name": "python3"
  },
  "language_info": {
   "name": "python",
   "version": "3.9.7"
  },
  "orig_nbformat": 4
 },
 "nbformat": 4,
 "nbformat_minor": 2
}
